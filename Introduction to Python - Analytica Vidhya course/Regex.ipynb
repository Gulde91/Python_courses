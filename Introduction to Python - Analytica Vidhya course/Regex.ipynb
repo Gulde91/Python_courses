{
 "cells": [
  {
   "cell_type": "markdown",
   "metadata": {},
   "source": [
    "## Regular expression "
   ]
  },
  {
   "cell_type": "code",
   "execution_count": 2,
   "metadata": {},
   "outputs": [
    {
     "name": "stdout",
     "output_type": "stream",
     "text": [
      "C:\\desktop\n",
      "athan\n"
     ]
    }
   ],
   "source": [
    "# normal vs raw string\n",
    "path = \"C:\\desktop\\nathan\" # string - backslash is handled as new line\n",
    "print(path)"
   ]
  },
  {
   "cell_type": "code",
   "execution_count": 9,
   "metadata": {},
   "outputs": [
    {
     "name": "stdout",
     "output_type": "stream",
     "text": [
      "<re.Match object; span=(0, 9), match='Analytics'>\n",
      "None\n"
     ]
    }
   ],
   "source": [
    "import re\n",
    "\n",
    "# match a word at the beginning of a string\n",
    "result = re.match(\"Analytics\", r\"Analytics Vidhya is the largest data science community in India\")\n",
    "print(result)\n",
    "\n",
    "result2 = re.match(\"largest\", r\"Analytics Vidhye is the largest data science community in India\")\n",
    "print(result2)"
   ]
  },
  {
   "cell_type": "markdown",
   "metadata": {},
   "source": [
    "##### re.match()"
   ]
  },
  {
   "cell_type": "code",
   "execution_count": 4,
   "metadata": {},
   "outputs": [
    {
     "name": "stdout",
     "output_type": "stream",
     "text": [
      "C:\\destop\\nathan\n"
     ]
    }
   ],
   "source": [
    "path = r\"C:\\destop\\nathan\" # raw string - backslash is handled as character\n",
    "print(path)"
   ]
  },
  {
   "cell_type": "markdown",
   "metadata": {},
   "source": [
    "##### re.search()"
   ]
  },
  {
   "cell_type": "code",
   "execution_count": 14,
   "metadata": {},
   "outputs": [
    {
     "name": "stdout",
     "output_type": "stream",
     "text": [
      "founded\n"
     ]
    }
   ],
   "source": [
    "result = re.search(\"founded\", \"Andrew NG founded Coursera. He also founded deeplearning.ai\")\n",
    "print(result.group())"
   ]
  },
  {
   "cell_type": "markdown",
   "metadata": {},
   "source": [
    "##### re.findall()"
   ]
  },
  {
   "cell_type": "code",
   "execution_count": 15,
   "metadata": {},
   "outputs": [
    {
     "name": "stdout",
     "output_type": "stream",
     "text": [
      "founded\n"
     ]
    }
   ],
   "source": [
    "print(result.group())"
   ]
  },
  {
   "cell_type": "code",
   "execution_count": 16,
   "metadata": {},
   "outputs": [
    {
     "name": "stdout",
     "output_type": "stream",
     "text": [
      "['founded', 'founded']\n"
     ]
    }
   ],
   "source": [
    "result = re.findall(\"founded\", \"Andrew NG founded Coursera. He also founded deeplearning.ai\")\n",
    "print(result)"
   ]
  },
  {
   "cell_type": "markdown",
   "metadata": {},
   "source": [
    "#### Special sequences"
   ]
  },
  {
   "cell_type": "code",
   "execution_count": 19,
   "metadata": {},
   "outputs": [
    {
     "name": "stdout",
     "output_type": "stream",
     "text": [
      "['est']\n"
     ]
    }
   ],
   "source": [
    "str = r\"Analytical Vidhya is the largest data science community in India\"\n",
    "\n",
    "# check if there is any word that ends with \"est\"\n",
    "x = re.findall(r\"est\\b\", str) # \\b returns a match where the specified pattern is at the end of a word\n",
    "print(x)"
   ]
  },
  {
   "cell_type": "code",
   "execution_count": 20,
   "metadata": {},
   "outputs": [
    {
     "name": "stdout",
     "output_type": "stream",
     "text": [
      "['2', '1', '9']\n",
      "Yes, there is at least one match\n"
     ]
    }
   ],
   "source": [
    "str = \"2 millon monthly visit in jan'19.\"\n",
    "\n",
    "# check if string contrain any numbers\n",
    "x = re.findall(\"\\d\", str)\n",
    "\n",
    "print(x)\n",
    "\n",
    "if (x):\n",
    "    print(\"Yes, there is at least one match\")\n",
    "else: \n",
    "    print(\"No match\")"
   ]
  },
  {
   "cell_type": "code",
   "execution_count": 21,
   "metadata": {},
   "outputs": [
    {
     "name": "stdout",
     "output_type": "stream",
     "text": [
      "['2', '19']\n",
      "Yes, there is at least one match\n"
     ]
    }
   ],
   "source": [
    "str = \"2 millon monthly visit in jan'19.\"\n",
    "\n",
    "x = re.findall(\"\\d+\", str)\n",
    "\n",
    "print(x)\n",
    "\n",
    "if (x):\n",
    "    print(\"Yes, there is at least one match\")\n",
    "else: \n",
    "    print(\"No match\")"
   ]
  },
  {
   "cell_type": "code",
   "execution_count": 23,
   "metadata": {},
   "outputs": [
    {
     "name": "stdout",
     "output_type": "stream",
     "text": [
      "[' ', 'm', 'i', 'l', 'l', 'o', 'n', ' ', 'm', 'o', 'n', 't', 'h', 'l', 'y', ' ', 'v', 'i', 's', 'i', 't', ' ', 'i', 'n', ' ', 'j', 'a', 'n', \"'\", '.']\n",
      "Yes, there is at least one match\n"
     ]
    }
   ],
   "source": [
    "str = \"2 millon monthly visit in jan'19.\"\n",
    "\n",
    "x = re.findall(\"\\D\", str) # returns a match where the string does not contain any digit\n",
    "\n",
    "print(x)\n",
    "\n",
    "if (x):\n",
    "    print(\"Yes, there is at least one match\")\n",
    "else: \n",
    "    print(\"No match\")"
   ]
  },
  {
   "cell_type": "code",
   "execution_count": 24,
   "metadata": {},
   "outputs": [
    {
     "name": "stdout",
     "output_type": "stream",
     "text": [
      "[\" millon monthly visit in jan'\", '.']\n",
      "Yes, there is at least one match\n"
     ]
    }
   ],
   "source": [
    "str = \"2 millon monthly visit in jan'19.\"\n",
    "\n",
    "x = re.findall(\"\\D+\", str) # returns a match where the string does not contain any digit\n",
    "\n",
    "print(x)\n",
    "\n",
    "if (x):\n",
    "    print(\"Yes, there is at least one match\")\n",
    "else: \n",
    "    print(\"No match\")"
   ]
  },
  {
   "cell_type": "code",
   "execution_count": 25,
   "metadata": {},
   "outputs": [
    {
     "name": "stdout",
     "output_type": "stream",
     "text": [
      "['2', 'm', 'i', 'l', 'l', 'i', 'o', 'n', 'm', 'o', 'n', 't', 'h', 'l', 'y', '_', 'v', 'i', 's', 'i', 't', 's']\n",
      "Yes, there is at least one match\n"
     ]
    }
   ],
   "source": [
    "str = \"2 million monthly_visits\"\n",
    "\n",
    "# return a match for every word character (characters from a to Z, digits from 0 to 9 and underscore _)\n",
    "\n",
    "x = re.findall(\"\\w\", str)\n",
    "\n",
    "print(x)\n",
    "\n",
    "if (x):\n",
    "    print(\"Yes, there is at least one match\")\n",
    "else: \n",
    "    print(\"No match\")"
   ]
  },
  {
   "cell_type": "code",
   "execution_count": 26,
   "metadata": {},
   "outputs": [
    {
     "name": "stdout",
     "output_type": "stream",
     "text": [
      "['2', 'million', 'monthly_visits']\n",
      "Yes, there is at least one match\n"
     ]
    }
   ],
   "source": [
    "str = \"2 million monthly_visits\"\n",
    "\n",
    "# return a match for every word character (characters from a to Z, digits from 0 to 9 and underscore _)\n",
    "\n",
    "x = re.findall(\"\\w+\", str)\n",
    "\n",
    "print(x)\n",
    "\n",
    "if (x):\n",
    "    print(\"Yes, there is at least one match\")\n",
    "else: \n",
    "    print(\"No match\")"
   ]
  },
  {
   "cell_type": "code",
   "execution_count": 29,
   "metadata": {},
   "outputs": [
    {
     "name": "stdout",
     "output_type": "stream",
     "text": [
      "[' ', ' ', ' ', '!']\n",
      "Yes, there is at least one match\n"
     ]
    }
   ],
   "source": [
    "str = \"2 million monthly visits9!\"\n",
    "\n",
    "# return a match for every non word character\n",
    "\n",
    "x = re.findall(\"\\W\", str)\n",
    "\n",
    "print(x)\n",
    "\n",
    "if (x):\n",
    "    print(\"Yes, there is at least one match\")\n",
    "else: \n",
    "    print(\"No match\")"
   ]
  },
  {
   "cell_type": "markdown",
   "metadata": {},
   "source": [
    "### Meta characters"
   ]
  },
  {
   "cell_type": "code",
   "execution_count": 32,
   "metadata": {},
   "outputs": [
    {
     "name": "stdout",
     "output_type": "stream",
     "text": [
      "['roh', 'roh']\n",
      "['rohan', 'rohit']\n"
     ]
    }
   ],
   "source": [
    "str = \"rohan and rohit recently published a research paper\"\n",
    "\n",
    "# search for a string that starts with \"ro\" followed by a certain number of characters\n",
    "\n",
    "x = re.findall(\"ro.\", str)\n",
    "x2 = re.findall(\"ro...\", str)\n",
    "\n",
    "print(x)\n",
    "print(x2)"
   ]
  },
  {
   "cell_type": "code",
   "execution_count": 34,
   "metadata": {},
   "outputs": [
    {
     "name": "stdout",
     "output_type": "stream",
     "text": [
      "['Science']\n",
      "Yes, there is at least one match\n"
     ]
    }
   ],
   "source": [
    "str = \"Data Science\"\n",
    "\n",
    "x = re.findall(\"Science$\", str)\n",
    "\n",
    "print(x)\n",
    "\n",
    "if (x):\n",
    "    print(\"Yes, there is at least one match\")\n",
    "else: \n",
    "    print(\"No match\")"
   ]
  },
  {
   "cell_type": "code",
   "execution_count": 35,
   "metadata": {},
   "outputs": [
    {
     "name": "stdout",
     "output_type": "stream",
     "text": [
      "['Data']\n",
      "Yes, there is at least one match\n"
     ]
    }
   ],
   "source": [
    "str = \"Data Science\"\n",
    "\n",
    "x = re.findall(\"^Data\", str)\n",
    "\n",
    "print(x)\n",
    "\n",
    "if (x):\n",
    "    print(\"Yes, there is at least one match\")\n",
    "else: \n",
    "    print(\"No match\")"
   ]
  },
  {
   "cell_type": "code",
   "execution_count": 37,
   "metadata": {},
   "outputs": [
    {
     "name": "stdout",
     "output_type": "stream",
     "text": [
      "['easy', 'eay']\n",
      "Yes, there is at least one match\n"
     ]
    }
   ],
   "source": [
    "str = \"easy easssy eay ey\"\n",
    "\n",
    "x = re.findall(\"eas?y\", str) # ? matches zero or one occurence of the pattern left to it\n",
    "\n",
    "print(x)\n",
    "\n",
    "if (x):\n",
    "    print(\"Yes, there is at least one match\")\n",
    "else: \n",
    "    print(\"No match\")"
   ]
  },
  {
   "cell_type": "markdown",
   "metadata": {},
   "source": [
    " ### Sets"
   ]
  },
  {
   "cell_type": "code",
   "execution_count": 39,
   "metadata": {},
   "outputs": [
    {
     "name": "stdout",
     "output_type": "stream",
     "text": [
      "['y', 'd', 'h', 'y', 'h', 'd', 'y', 'd']\n",
      "Yes, there is at least one match\n"
     ]
    }
   ],
   "source": [
    "str = r\"Analytical Vidhya is the largest data science community in India\"\n",
    "\n",
    "x = re.findall(\"[ydh]\", str) # []\n",
    "\n",
    "print(x)\n",
    "\n",
    "if (x):\n",
    "    print(\"Yes, there is at least one match\")\n",
    "else: \n",
    "    print(\"No match\")"
   ]
  },
  {
   "cell_type": "code",
   "execution_count": 40,
   "metadata": {},
   "outputs": [
    {
     "name": "stdout",
     "output_type": "stream",
     "text": [
      "['a', 'c', 'a', 'd', 'a', 'e', 'a', 'g', 'e', 'd', 'a', 'a', 'c', 'e', 'c', 'e', 'c', 'd', 'a']\n",
      "Yes, there is at least one match\n"
     ]
    }
   ],
   "source": [
    "str = r\"Analytical Vidhya is the largest data science community in India\"\n",
    "\n",
    "x = re.findall(\"[a-g]\", str) # []\n",
    "\n",
    "print(x)\n",
    "\n",
    "if (x):\n",
    "    print(\"Yes, there is at least one match\")\n",
    "else: \n",
    "    print(\"No match\")"
   ]
  }
 ],
 "metadata": {
  "kernelspec": {
   "display_name": "Python 3",
   "language": "python",
   "name": "python3"
  },
  "language_info": {
   "codemirror_mode": {
    "name": "ipython",
    "version": 3
   },
   "file_extension": ".py",
   "mimetype": "text/x-python",
   "name": "python",
   "nbconvert_exporter": "python",
   "pygments_lexer": "ipython3",
   "version": "3.7.3"
  }
 },
 "nbformat": 4,
 "nbformat_minor": 2
}
